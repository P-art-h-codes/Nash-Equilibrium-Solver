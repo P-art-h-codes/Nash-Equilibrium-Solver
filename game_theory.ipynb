{
 "cells": [
  {
   "cell_type": "code",
   "execution_count": 29,
   "id": "4ee611cc-622c-4b98-bad7-bf9a43a4d4a1",
   "metadata": {},
   "outputs": [],
   "source": [
    "import numpy as np"
   ]
  },
  {
   "cell_type": "code",
   "execution_count": 84,
   "id": "9d2fc78e-2f79-4738-bf39-03d0bf60513c",
   "metadata": {},
   "outputs": [],
   "source": [
    "def remove_dominated(A):\n",
    "    m,n=A.shape\n",
    "    colin=np.zeros(n)\n",
    "    for i in range(m):\n",
    "        min=0\n",
    "        for j in range(n):\n",
    "            if(A[i][j]<A[i][min]):\n",
    "                min=j\n",
    "        colin[min]+=1\n",
    "    for i in range(n-1,-1,-1):\n",
    "        if(colin[i]==0):\n",
    "            A=np.delete(A,i,1)\n",
    "    m,n=A.shape\n",
    "    rose=np.zeros(m)\n",
    "    for i in range(n):\n",
    "        max=0\n",
    "        for j in range(m):\n",
    "            if(A[j][i]>A[max][i]):\n",
    "                max=j\n",
    "        rose[max]+=1\n",
    "    for i in range(m-1,-1,-1):\n",
    "        if(rose[i]==0):\n",
    "            A=np.delete(A,i,0)\n",
    "    return A"
   ]
  },
  {
   "cell_type": "code",
   "execution_count": 35,
   "id": "36582ee5-34ea-4b75-8240-1aea6724c57f",
   "metadata": {},
   "outputs": [],
   "source": [
    "def final_removal(A):\n",
    "    if(m<n):\n",
    "        for i in range(m-1):\n",
    "            A=remove_dominated(A)\n",
    "    else:\n",
    "        for i in range(n-1):\n",
    "            A=remove_dominated(A)\n",
    "    return A"
   ]
  },
  {
   "cell_type": "code",
   "execution_count": 80,
   "id": "27190542-9a7c-4662-abad-51cda5887a6a",
   "metadata": {},
   "outputs": [],
   "source": [
    "def row_mixed(A):\n",
    "    "
   ]
  },
  {
   "cell_type": "code",
   "execution_count": 81,
   "id": "237c4a0d-3380-43a0-89ca-bd5b11748c22",
   "metadata": {},
   "outputs": [],
   "source": [
    "def general_mixed(A):\n",
    "    m,n=A.shape\n",
    "    if(m==2):\n",
    "        row_mixed(A)"
   ]
  },
  {
   "cell_type": "code",
   "execution_count": 82,
   "id": "25e0ecdd-701e-4af6-8dac-679698357160",
   "metadata": {},
   "outputs": [],
   "source": [
    "def after_removal(A):\n",
    "    B=final_removal(A)\n",
    "    m,n=B.shape\n",
    "    if(m==1 & n==1):\n",
    "        print(\"Expected equilibrium payoff\", A[0][0])\n",
    "    else:\n",
    "        general_mixed(A)"
   ]
  },
  {
   "cell_type": "code",
   "execution_count": 83,
   "id": "01cdf2c8-8056-44bd-b6b8-d45b9ccfb5e7",
   "metadata": {},
   "outputs": [
    {
     "name": "stdout",
     "output_type": "stream",
     "text": [
      "Player 1's mixed strategy: [0. 0. 0.]\n"
     ]
    },
    {
     "name": "stderr",
     "output_type": "stream",
     "text": [
      "C:\\Users\\MAYANK\\AppData\\Local\\Temp/ipykernel_6072/628407122.py:21: RuntimeWarning: divide by zero encountered in double_scalars\n",
      "  v = 1 / np.sum(p * B.T[0])\n",
      "C:\\Users\\MAYANK\\AppData\\Local\\Temp/ipykernel_6072/628407122.py:25: RuntimeWarning: invalid value encountered in multiply\n",
      "  print(f\"Player 2's mixed strategy: {v * p @ B.T}\")\n"
     ]
    },
    {
     "ename": "ValueError",
     "evalue": "matmul: Input operand 1 has a mismatch in its core dimension 0, with gufunc signature (n?,k),(k,m?)->(n?,m?) (size 2 is different from 3)",
     "output_type": "error",
     "traceback": [
      "\u001b[1;31m---------------------------------------------------------------------------\u001b[0m",
      "\u001b[1;31mValueError\u001b[0m                                Traceback (most recent call last)",
      "\u001b[1;32m~\\AppData\\Local\\Temp/ipykernel_6072/1683541983.py\u001b[0m in \u001b[0;36m<module>\u001b[1;34m\u001b[0m\n\u001b[0;32m      1\u001b[0m \u001b[0mA\u001b[0m\u001b[1;33m=\u001b[0m\u001b[0mnp\u001b[0m\u001b[1;33m.\u001b[0m\u001b[0marray\u001b[0m\u001b[1;33m(\u001b[0m\u001b[1;33m[\u001b[0m\u001b[1;33m[\u001b[0m\u001b[1;36m4\u001b[0m\u001b[1;33m,\u001b[0m\u001b[1;33m-\u001b[0m\u001b[1;36m2\u001b[0m\u001b[1;33m,\u001b[0m\u001b[1;33m-\u001b[0m\u001b[1;36m1\u001b[0m\u001b[1;33m]\u001b[0m\u001b[1;33m,\u001b[0m\u001b[1;33m[\u001b[0m\u001b[1;33m-\u001b[0m\u001b[1;36m1\u001b[0m\u001b[1;33m,\u001b[0m\u001b[1;36m3\u001b[0m\u001b[1;33m,\u001b[0m\u001b[1;36m1\u001b[0m\u001b[1;33m]\u001b[0m\u001b[1;33m]\u001b[0m\u001b[1;33m)\u001b[0m\u001b[1;33m\u001b[0m\u001b[1;33m\u001b[0m\u001b[0m\n\u001b[1;32m----> 2\u001b[1;33m \u001b[0mafter_removal\u001b[0m\u001b[1;33m(\u001b[0m\u001b[0mA\u001b[0m\u001b[1;33m)\u001b[0m\u001b[1;33m\u001b[0m\u001b[1;33m\u001b[0m\u001b[0m\n\u001b[0m",
      "\u001b[1;32m~\\AppData\\Local\\Temp/ipykernel_6072/2565507201.py\u001b[0m in \u001b[0;36mafter_removal\u001b[1;34m(A)\u001b[0m\n\u001b[0;32m      5\u001b[0m         \u001b[0mprint\u001b[0m\u001b[1;33m(\u001b[0m\u001b[1;34m\"Expected equilibrium payoff\"\u001b[0m\u001b[1;33m,\u001b[0m \u001b[0mA\u001b[0m\u001b[1;33m[\u001b[0m\u001b[1;36m0\u001b[0m\u001b[1;33m]\u001b[0m\u001b[1;33m[\u001b[0m\u001b[1;36m0\u001b[0m\u001b[1;33m]\u001b[0m\u001b[1;33m)\u001b[0m\u001b[1;33m\u001b[0m\u001b[1;33m\u001b[0m\u001b[0m\n\u001b[0;32m      6\u001b[0m     \u001b[1;32melse\u001b[0m\u001b[1;33m:\u001b[0m\u001b[1;33m\u001b[0m\u001b[1;33m\u001b[0m\u001b[0m\n\u001b[1;32m----> 7\u001b[1;33m         \u001b[0mgeneral_mixed\u001b[0m\u001b[1;33m(\u001b[0m\u001b[0mA\u001b[0m\u001b[1;33m)\u001b[0m\u001b[1;33m\u001b[0m\u001b[1;33m\u001b[0m\u001b[0m\n\u001b[0m",
      "\u001b[1;32m~\\AppData\\Local\\Temp/ipykernel_6072/204525980.py\u001b[0m in \u001b[0;36mgeneral_mixed\u001b[1;34m(A)\u001b[0m\n\u001b[0;32m      2\u001b[0m     \u001b[0mm\u001b[0m\u001b[1;33m,\u001b[0m\u001b[0mn\u001b[0m\u001b[1;33m=\u001b[0m\u001b[0mA\u001b[0m\u001b[1;33m.\u001b[0m\u001b[0mshape\u001b[0m\u001b[1;33m\u001b[0m\u001b[1;33m\u001b[0m\u001b[0m\n\u001b[0;32m      3\u001b[0m     \u001b[1;32mif\u001b[0m\u001b[1;33m(\u001b[0m\u001b[0mm\u001b[0m\u001b[1;33m==\u001b[0m\u001b[1;36m2\u001b[0m\u001b[1;33m)\u001b[0m\u001b[1;33m:\u001b[0m\u001b[1;33m\u001b[0m\u001b[1;33m\u001b[0m\u001b[0m\n\u001b[1;32m----> 4\u001b[1;33m         \u001b[0mrow_mixed\u001b[0m\u001b[1;33m(\u001b[0m\u001b[0mA\u001b[0m\u001b[1;33m)\u001b[0m\u001b[1;33m\u001b[0m\u001b[1;33m\u001b[0m\u001b[0m\n\u001b[0m",
      "\u001b[1;32m~\\AppData\\Local\\Temp/ipykernel_6072/628407122.py\u001b[0m in \u001b[0;36mrow_mixed\u001b[1;34m(A)\u001b[0m\n\u001b[0;32m     23\u001b[0m     \u001b[1;31m# Print the solution\u001b[0m\u001b[1;33m\u001b[0m\u001b[1;33m\u001b[0m\u001b[0m\n\u001b[0;32m     24\u001b[0m     \u001b[0mprint\u001b[0m\u001b[1;33m(\u001b[0m\u001b[1;34mf\"Player 1's mixed strategy: {p}\"\u001b[0m\u001b[1;33m)\u001b[0m\u001b[1;33m\u001b[0m\u001b[1;33m\u001b[0m\u001b[0m\n\u001b[1;32m---> 25\u001b[1;33m     \u001b[0mprint\u001b[0m\u001b[1;33m(\u001b[0m\u001b[1;34mf\"Player 2's mixed strategy: {v * p @ B.T}\"\u001b[0m\u001b[1;33m)\u001b[0m\u001b[1;33m\u001b[0m\u001b[1;33m\u001b[0m\u001b[0m\n\u001b[0m\u001b[0;32m     26\u001b[0m     \u001b[0mprint\u001b[0m\u001b[1;33m(\u001b[0m\u001b[1;34mf\"Value of the game: {v}\"\u001b[0m\u001b[1;33m)\u001b[0m\u001b[1;33m\u001b[0m\u001b[1;33m\u001b[0m\u001b[0m\n\u001b[0;32m     27\u001b[0m \u001b[1;33m\u001b[0m\u001b[0m\n",
      "\u001b[1;31mValueError\u001b[0m: matmul: Input operand 1 has a mismatch in its core dimension 0, with gufunc signature (n?,k),(k,m?)->(n?,m?) (size 2 is different from 3)"
     ]
    }
   ],
   "source": [
    "A=np.array([[4,-2,-1],[-1,3,1]])\n",
    "after_removal(A)"
   ]
  },
  {
   "cell_type": "code",
   "execution_count": null,
   "id": "3f20ae92-a47e-4ea5-a49e-aa1107b4253b",
   "metadata": {},
   "outputs": [],
   "source": []
  }
 ],
 "metadata": {
  "kernelspec": {
   "display_name": "Python 3 (ipykernel)",
   "language": "python",
   "name": "python3"
  },
  "language_info": {
   "codemirror_mode": {
    "name": "ipython",
    "version": 3
   },
   "file_extension": ".py",
   "mimetype": "text/x-python",
   "name": "python",
   "nbconvert_exporter": "python",
   "pygments_lexer": "ipython3",
   "version": "3.9.7"
  }
 },
 "nbformat": 4,
 "nbformat_minor": 5
}
